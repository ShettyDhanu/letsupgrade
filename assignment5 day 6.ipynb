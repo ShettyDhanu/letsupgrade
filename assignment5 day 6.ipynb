{
 "cells": [
  {
   "cell_type": "code",
   "execution_count": null,
   "metadata": {},
   "outputs": [],
   "source": [
    "#question1\n",
    "class Account():\n",
    "        \n",
    "    def __init__(self,owner,balance=0):\n",
    "        self.owner=owner\n",
    "        self.balance=balance\n",
    "       \n",
    "    def deposite(self,dep_amt):\n",
    "        self.balance+=dep_amt\n",
    "        print(\"added {} to the balance\".format(dep_amt))\n",
    "              \n",
    "    def withdrawl(self,wd_amt):\n",
    "        if self.balance>=wd_amt:\n",
    "            self.balance-=wd_amt\n",
    "            print(\"withdrawl acceptence\")\n",
    "        else:\n",
    "            print(\"sorry no fund\")\n",
    "              \n",
    "    def __str__(self):\n",
    "        return f\"owner:{self.owner}\\nBalance:{self.balance}\"\n",
    "        \n",
    "              \n",
    "        \n",
    "            \n",
    "    \n",
    "        \n",
    "    \n",
    "              \n",
    "    "
   ]
  },
  {
   "cell_type": "code",
   "execution_count": null,
   "metadata": {},
   "outputs": [],
   "source": [
    "a=Account(\"s\",50)"
   ]
  },
  {
   "cell_type": "code",
   "execution_count": null,
   "metadata": {},
   "outputs": [],
   "source": [
    "#question2\n",
    "import math\n",
    "from math import sqrt\n",
    "from math import pi\n",
    "\n",
    "class cone():\n",
    "    def __init__(self,r,h):\n",
    "        self.r=r\n",
    "        self.h=h\n",
    "    def volume(self,v,l):\n",
    "        l=math.sqrt(r*r+h*h)\n",
    "        v=(1.0/3)*math.pi*r*r*h\n",
    "        \n",
    "    def surfaca_area(self,sa):\n",
    "        sa=math.pi*r*(r+l)\n",
    "    \n",
    "    def __int__(self):\n",
    "        return f\"owner:{self.r}\\nBalance:{self.h}\"\n",
    "        \n",
    "              \n",
    "\n",
    "        \n",
    "    \n",
    "    "
   ]
  },
  {
   "cell_type": "code",
   "execution_count": null,
   "metadata": {},
   "outputs": [],
   "source": [
    "v=cone(10,5)"
   ]
  },
  {
   "cell_type": "code",
   "execution_count": null,
   "metadata": {},
   "outputs": [],
   "source": []
  },
  {
   "cell_type": "code",
   "execution_count": null,
   "metadata": {},
   "outputs": [],
   "source": []
  }
 ],
 "metadata": {
  "kernelspec": {
   "display_name": "Python 3",
   "language": "python",
   "name": "python3"
  },
  "language_info": {
   "codemirror_mode": {
    "name": "ipython",
    "version": 3
   },
   "file_extension": ".py",
   "mimetype": "text/x-python",
   "name": "python",
   "nbconvert_exporter": "python",
   "pygments_lexer": "ipython3",
   "version": "3.7.1"
  }
 },
 "nbformat": 4,
 "nbformat_minor": 2
}
